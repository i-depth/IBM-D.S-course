{
 "cells": [
  {
   "cell_type": "markdown",
   "id": "7776907c-8e22-434a-9d6c-4be453feaab9",
   "metadata": {
    "tags": []
   },
   "source": [
    "# Data Science Tools and Ecosystem"
   ]
  },
  {
   "cell_type": "markdown",
   "id": "eb756d75-ed60-4f1c-b2ee-1543c66bff25",
   "metadata": {},
   "source": [
    "In this notebook, Data Science Tools and Ecosystem are summarized."
   ]
  },
  {
   "cell_type": "markdown",
   "id": "163d244e-edf4-4c70-be4e-ddd637c9235a",
   "metadata": {},
   "source": [
    "Some of the popular languages that Data Scientists use are:\n",
    "\n",
    "1. Python\n",
    "2. R\n",
    "3. SQL"
   ]
  },
  {
   "cell_type": "markdown",
   "id": "07e445ad-38cb-48ff-a713-c49b10eab86b",
   "metadata": {},
   "source": [
    "Some of the commonly used libraries used by Data Scientists include:\n",
    "\n",
    "1. NumPy\n",
    "2. Pandas\n",
    "3. Matplotlib\n",
    "4. Seaborn\n",
    "5. Scikit-learn\n",
    "6. TensorFlow"
   ]
  },
  {
   "cell_type": "markdown",
   "id": "7548e7cd-4f71-4608-ad29-7d241cef0316",
   "metadata": {},
   "source": [
    "### Below are a few examples of evaluating arithmetic expressions in Python.\n"
   ]
  },
  {
   "cell_type": "code",
   "execution_count": 6,
   "id": "d29eed66-f708-4512-8395-191a16ac9c1b",
   "metadata": {},
   "outputs": [
    {
     "name": "stdout",
     "output_type": "stream",
     "text": [
      "17\n"
     ]
    }
   ],
   "source": [
    "print(3*4+5)"
   ]
  },
  {
   "cell_type": "code",
   "execution_count": 7,
   "id": "59ac6019-4e92-4a17-b756-382252e07fba",
   "metadata": {
    "tags": []
   },
   "outputs": [
    {
     "name": "stdout",
     "output_type": "stream",
     "text": [
      "3\n"
     ]
    }
   ],
   "source": [
    "print(200//60)"
   ]
  },
  {
   "cell_type": "markdown",
   "id": "895391ac-dc2b-40d1-a55c-cb2521ba5b24",
   "metadata": {},
   "source": [
    "### Objectives:\n",
    "* List popular languages for Data Science.\n",
    "* List commonly used libraries for Data Science.\n",
    "* Provide examples of evaluating arithmetic expressions in Python.\n",
    "* Demonstrate converting minutes to hours using a Python expression."
   ]
  },
  {
   "cell_type": "markdown",
   "id": "9a58c63c-6932-4b32-9afd-98bac178ea23",
   "metadata": {
    "tags": []
   },
   "source": [
    "## Author: Emad"
   ]
  }
 ],
 "metadata": {
  "kernelspec": {
   "display_name": "Python",
   "language": "python",
   "name": "conda-env-python-py"
  },
  "language_info": {
   "codemirror_mode": {
    "name": "ipython",
    "version": 3
   },
   "file_extension": ".py",
   "mimetype": "text/x-python",
   "name": "python",
   "nbconvert_exporter": "python",
   "pygments_lexer": "ipython3",
   "version": "3.7.12"
  }
 },
 "nbformat": 4,
 "nbformat_minor": 5
}
